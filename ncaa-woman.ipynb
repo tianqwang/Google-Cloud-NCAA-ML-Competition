{
 "cells": [
  {
   "cell_type": "markdown",
   "metadata": {},
   "source": [
    " ## Package Load"
   ]
  },
  {
   "cell_type": "code",
   "execution_count": 1,
   "metadata": {
    "_cell_guid": "b1076dfc-b9ad-4769-8c92-a6c4dae69d19",
    "_uuid": "8f2839f25d086af736a60e9eeb907d3b93b6e0e5"
   },
   "outputs": [
    {
     "name": "stdout",
     "output_type": "stream",
     "text": [
      "['WSampleSubmissionStage1.csv', 'stage2wdatafiles', 'wdatafiles', 'WSampleSubmissionStage2.csv']\n"
     ]
    }
   ],
   "source": [
    "import numpy as np\n",
    "import pandas as pd\n",
    "import os\n",
    "import xgboost as xgb\n",
    "from sklearn.model_selection import KFold\n",
    "from sklearn.metrics import log_loss\n",
    "from scipy.interpolate import UnivariateSpline\n",
    "import statsmodels.api as sm\n",
    "import matplotlib.pyplot as plt\n",
    "import collections\n",
    "\n",
    "pd.set_option(\"display.max_column\", 999)\n",
    "print(os.listdir(\"../input\"))"
   ]
  },
  {
   "cell_type": "markdown",
   "metadata": {
    "_cell_guid": "79c7e3d0-c299-4dcb-8224-4455121ee9b0",
    "_uuid": "d629ff2d2480ee46fbb7e2d37f6b5fab8052498a",
    "collapsed": true
   },
   "source": [
    "# Data Load"
   ]
  },
  {
   "cell_type": "code",
   "execution_count": 2,
   "metadata": {
    "_uuid": "d1516d30c762ee2ac2171bc2baf24c3d3c9bcef3"
   },
   "outputs": [],
   "source": [
    "tourney_results = pd.read_csv('../input/stage2wdatafiles/WNCAATourneyDetailedResults.csv')\n",
    "seeds = pd.read_csv('../input/stage2wdatafiles/WNCAATourneySeeds.csv')\n",
    "regular_results = pd.read_csv('../input/stage2wdatafiles/WRegularSeasonDetailedResults.csv')"
   ]
  },
  {
   "cell_type": "markdown",
   "metadata": {
    "_uuid": "f8933b1cb4f579d28cb7535dc8503c9719643bd9"
   },
   "source": [
    "# Data Preprocessing"
   ]
  },
  {
   "cell_type": "markdown",
   "metadata": {},
   "source": [
    "Because of the data structure, which differentiate the home team and away team in training data, so one game match could have one record, which has seperate columns to feature the statistics of two teams. Directly modeling on this structure would lose some information since one record could be seemed as two perspective in both teams. So the strategy here is to duplicate the original data into a mirror record. And all the data preprocessing and feature engineering would be done in both original data and mirror data in the same way."
   ]
  },
  {
   "cell_type": "code",
   "execution_count": 3,
   "metadata": {
    "_uuid": "41f2a1f7d4bf81cdbb32f28c08bc008fbcae123f"
   },
   "outputs": [],
   "source": [
    "def prepare_data(df):\n",
    "    dfswap = df[['Season', 'DayNum', 'LTeamID', 'LScore', 'WTeamID', 'WScore', 'WLoc', 'NumOT', \n",
    "    'LFGM', 'LFGA', 'LFGM3', 'LFGA3', 'LFTM', 'LFTA', 'LOR', 'LDR', 'LAst', 'LTO', 'LStl', 'LBlk', 'LPF', \n",
    "    'WFGM', 'WFGA', 'WFGM3', 'WFGA3', 'WFTM', 'WFTA', 'WOR', 'WDR', 'WAst', 'WTO', 'WStl', 'WBlk', 'WPF']]\n",
    "\n",
    "    dfswap.loc[df['WLoc'] == 'H', 'WLoc'] = 'A'\n",
    "    dfswap.loc[df['WLoc'] == 'A', 'WLoc'] = 'H'\n",
    "    df.columns.values[6] = 'location'\n",
    "    dfswap.columns.values[6] = 'location'    \n",
    "      \n",
    "    df.columns = [x.replace('W','T1_').replace('L','T2_') for x in list(df.columns)]\n",
    "    dfswap.columns = [x.replace('L','T1_').replace('W','T2_') for x in list(dfswap.columns)]\n",
    "\n",
    "    output = pd.concat([df, dfswap]).reset_index(drop=True)\n",
    "    output.loc[output.location=='N','location'] = '0'\n",
    "    output.loc[output.location=='H','location'] = '1'\n",
    "    output.loc[output.location=='A','location'] = '-1'\n",
    "    output.location = output.location.astype(int)\n",
    "    \n",
    "    output['PointDiff'] = output['T1_Score'] - output['T2_Score']\n",
    "    \n",
    "    return output"
   ]
  },
  {
   "cell_type": "code",
   "execution_count": 4,
   "metadata": {
    "_uuid": "eb60f3cdc675a699bc39fa63df1f37a72457abbd"
   },
   "outputs": [],
   "source": [
    "regular_data = prepare_data(regular_results)\n",
    "tourney_data = prepare_data(tourney_results)"
   ]
  },
  {
   "cell_type": "markdown",
   "metadata": {
    "_uuid": "7403b66f05f1e42109f5a5b3c7047a8ace35bca4"
   },
   "source": [
    "## Feature Engineering"
   ]
  },
  {
   "cell_type": "markdown",
   "metadata": {},
   "source": [
    "There are so many features could be used for modeling, which could easily cause overfitting, the strategy here is to choose some important features to model. I tried several functions based on those features but also easy to get overfitting, the model has the best generalization power only includes mean function."
   ]
  },
  {
   "cell_type": "code",
   "execution_count": 5,
   "metadata": {
    "_uuid": "d26ed13d529426a52168245300d2303a4fbf09ec"
   },
   "outputs": [],
   "source": [
    "boxscore_cols = ['T1_Score', 'T2_Score', \n",
    "        'T1_FGM', 'T1_FGA', 'T1_FGM3', 'T1_FGA3', 'T1_FTM', 'T1_FTA', 'T1_OR', 'T1_DR', 'T1_Ast', 'T1_TO', 'T1_Stl', 'T1_Blk', 'T1_PF', \n",
    "        'T2_FGM', 'T2_FGA', 'T2_FGM3', 'T2_FGA3', 'T2_FTM', 'T2_FTA', 'T2_OR', 'T2_DR', 'T2_Ast', 'T2_TO', 'T2_Stl', 'T2_Blk', 'T2_PF', \n",
    "        'PointDiff']\n",
    "\n",
    "boxscore_cols = [\n",
    "        'T1_FGM', 'T1_FGA', 'T1_FGM3', 'T1_FGA3', 'T1_OR', 'T1_Ast', 'T1_TO', 'T1_Stl', 'T1_PF', \n",
    "        'T2_FGM', 'T2_FGA', 'T2_FGM3', 'T2_FGA3', 'T2_OR', 'T2_Ast', 'T2_TO', 'T2_Stl', 'T2_Blk',  \n",
    "        'PointDiff']\n",
    "\n",
    "funcs = [np.mean] #+ [max, min, np.std]"
   ]
  },
  {
   "cell_type": "code",
   "execution_count": 6,
   "metadata": {
    "_uuid": "8ad76336e72141c61b28448c0a6c32eb71fd2b9b"
   },
   "outputs": [
    {
     "data": {
      "text/html": [
       "<div>\n",
       "<style scoped>\n",
       "    .dataframe tbody tr th:only-of-type {\n",
       "        vertical-align: middle;\n",
       "    }\n",
       "\n",
       "    .dataframe tbody tr th {\n",
       "        vertical-align: top;\n",
       "    }\n",
       "\n",
       "    .dataframe thead th {\n",
       "        text-align: right;\n",
       "    }\n",
       "</style>\n",
       "<table border=\"1\" class=\"dataframe\">\n",
       "  <thead>\n",
       "    <tr style=\"text-align: right;\">\n",
       "      <th></th>\n",
       "      <th>Season</th>\n",
       "      <th>T1_TeamID</th>\n",
       "      <th>T1_FGMmean</th>\n",
       "      <th>T1_FGAmean</th>\n",
       "      <th>T1_FGM3mean</th>\n",
       "      <th>T1_FGA3mean</th>\n",
       "      <th>T1_ORmean</th>\n",
       "      <th>T1_Astmean</th>\n",
       "      <th>T1_TOmean</th>\n",
       "      <th>T1_Stlmean</th>\n",
       "      <th>T1_PFmean</th>\n",
       "      <th>T2_FGMmean</th>\n",
       "      <th>T2_FGAmean</th>\n",
       "      <th>T2_FGM3mean</th>\n",
       "      <th>T2_FGA3mean</th>\n",
       "      <th>T2_ORmean</th>\n",
       "      <th>T2_Astmean</th>\n",
       "      <th>T2_TOmean</th>\n",
       "      <th>T2_Stlmean</th>\n",
       "      <th>T2_Blkmean</th>\n",
       "      <th>PointDiffmean</th>\n",
       "    </tr>\n",
       "  </thead>\n",
       "  <tbody>\n",
       "    <tr>\n",
       "      <th>0</th>\n",
       "      <td>2010</td>\n",
       "      <td>3102</td>\n",
       "      <td>19.142857</td>\n",
       "      <td>53.142857</td>\n",
       "      <td>4.571429</td>\n",
       "      <td>16.071429</td>\n",
       "      <td>12.464286</td>\n",
       "      <td>10.250000</td>\n",
       "      <td>17.714286</td>\n",
       "      <td>6.035714</td>\n",
       "      <td>14.964286</td>\n",
       "      <td>27.000000</td>\n",
       "      <td>56.392857</td>\n",
       "      <td>7.714286</td>\n",
       "      <td>20.500000</td>\n",
       "      <td>12.821429</td>\n",
       "      <td>19.535714</td>\n",
       "      <td>14.392857</td>\n",
       "      <td>9.821429</td>\n",
       "      <td>5.035714</td>\n",
       "      <td>-19.964286</td>\n",
       "    </tr>\n",
       "    <tr>\n",
       "      <th>1</th>\n",
       "      <td>2010</td>\n",
       "      <td>3103</td>\n",
       "      <td>22.233333</td>\n",
       "      <td>55.266667</td>\n",
       "      <td>3.933333</td>\n",
       "      <td>12.466667</td>\n",
       "      <td>14.200000</td>\n",
       "      <td>13.433333</td>\n",
       "      <td>18.266667</td>\n",
       "      <td>8.033333</td>\n",
       "      <td>17.533333</td>\n",
       "      <td>20.966667</td>\n",
       "      <td>54.966667</td>\n",
       "      <td>4.833333</td>\n",
       "      <td>15.166667</td>\n",
       "      <td>13.633333</td>\n",
       "      <td>11.700000</td>\n",
       "      <td>18.700000</td>\n",
       "      <td>9.233333</td>\n",
       "      <td>3.800000</td>\n",
       "      <td>2.600000</td>\n",
       "    </tr>\n",
       "    <tr>\n",
       "      <th>2</th>\n",
       "      <td>2010</td>\n",
       "      <td>3104</td>\n",
       "      <td>24.724138</td>\n",
       "      <td>62.103448</td>\n",
       "      <td>4.344828</td>\n",
       "      <td>14.724138</td>\n",
       "      <td>14.482759</td>\n",
       "      <td>13.103448</td>\n",
       "      <td>19.172414</td>\n",
       "      <td>7.379310</td>\n",
       "      <td>20.413793</td>\n",
       "      <td>23.896552</td>\n",
       "      <td>60.137931</td>\n",
       "      <td>5.103448</td>\n",
       "      <td>16.517241</td>\n",
       "      <td>14.862069</td>\n",
       "      <td>12.517241</td>\n",
       "      <td>19.241379</td>\n",
       "      <td>8.758621</td>\n",
       "      <td>3.586207</td>\n",
       "      <td>-2.862069</td>\n",
       "    </tr>\n",
       "    <tr>\n",
       "      <th>3</th>\n",
       "      <td>2010</td>\n",
       "      <td>3105</td>\n",
       "      <td>20.370370</td>\n",
       "      <td>50.851852</td>\n",
       "      <td>3.037037</td>\n",
       "      <td>9.888889</td>\n",
       "      <td>13.666667</td>\n",
       "      <td>9.740741</td>\n",
       "      <td>25.037037</td>\n",
       "      <td>8.777778</td>\n",
       "      <td>19.148148</td>\n",
       "      <td>22.777778</td>\n",
       "      <td>57.518519</td>\n",
       "      <td>3.740741</td>\n",
       "      <td>12.777778</td>\n",
       "      <td>15.185185</td>\n",
       "      <td>13.481481</td>\n",
       "      <td>20.740741</td>\n",
       "      <td>12.222222</td>\n",
       "      <td>4.407407</td>\n",
       "      <td>-3.962963</td>\n",
       "    </tr>\n",
       "    <tr>\n",
       "      <th>4</th>\n",
       "      <td>2010</td>\n",
       "      <td>3106</td>\n",
       "      <td>18.448276</td>\n",
       "      <td>53.000000</td>\n",
       "      <td>2.689655</td>\n",
       "      <td>9.586207</td>\n",
       "      <td>15.000000</td>\n",
       "      <td>11.482759</td>\n",
       "      <td>20.103448</td>\n",
       "      <td>8.034483</td>\n",
       "      <td>22.068966</td>\n",
       "      <td>17.896552</td>\n",
       "      <td>50.689655</td>\n",
       "      <td>3.724138</td>\n",
       "      <td>11.827586</td>\n",
       "      <td>12.379310</td>\n",
       "      <td>9.517241</td>\n",
       "      <td>18.310345</td>\n",
       "      <td>8.793103</td>\n",
       "      <td>3.965517</td>\n",
       "      <td>-2.275862</td>\n",
       "    </tr>\n",
       "  </tbody>\n",
       "</table>\n",
       "</div>"
      ],
      "text/plain": [
       "   Season  T1_TeamID  T1_FGMmean  T1_FGAmean  T1_FGM3mean  T1_FGA3mean  \\\n",
       "0    2010       3102   19.142857   53.142857     4.571429    16.071429   \n",
       "1    2010       3103   22.233333   55.266667     3.933333    12.466667   \n",
       "2    2010       3104   24.724138   62.103448     4.344828    14.724138   \n",
       "3    2010       3105   20.370370   50.851852     3.037037     9.888889   \n",
       "4    2010       3106   18.448276   53.000000     2.689655     9.586207   \n",
       "\n",
       "   T1_ORmean  T1_Astmean  T1_TOmean  T1_Stlmean  T1_PFmean  T2_FGMmean  \\\n",
       "0  12.464286   10.250000  17.714286    6.035714  14.964286   27.000000   \n",
       "1  14.200000   13.433333  18.266667    8.033333  17.533333   20.966667   \n",
       "2  14.482759   13.103448  19.172414    7.379310  20.413793   23.896552   \n",
       "3  13.666667    9.740741  25.037037    8.777778  19.148148   22.777778   \n",
       "4  15.000000   11.482759  20.103448    8.034483  22.068966   17.896552   \n",
       "\n",
       "   T2_FGAmean  T2_FGM3mean  T2_FGA3mean  T2_ORmean  T2_Astmean  T2_TOmean  \\\n",
       "0   56.392857     7.714286    20.500000  12.821429   19.535714  14.392857   \n",
       "1   54.966667     4.833333    15.166667  13.633333   11.700000  18.700000   \n",
       "2   60.137931     5.103448    16.517241  14.862069   12.517241  19.241379   \n",
       "3   57.518519     3.740741    12.777778  15.185185   13.481481  20.740741   \n",
       "4   50.689655     3.724138    11.827586  12.379310    9.517241  18.310345   \n",
       "\n",
       "   T2_Stlmean  T2_Blkmean  PointDiffmean  \n",
       "0    9.821429    5.035714     -19.964286  \n",
       "1    9.233333    3.800000       2.600000  \n",
       "2    8.758621    3.586207      -2.862069  \n",
       "3   12.222222    4.407407      -3.962963  \n",
       "4    8.793103    3.965517      -2.275862  "
      ]
     },
     "execution_count": 6,
     "metadata": {},
     "output_type": "execute_result"
    }
   ],
   "source": [
    "season_statistics = regular_data.groupby([\"Season\", 'T1_TeamID'])[boxscore_cols].agg(funcs).reset_index()\n",
    "season_statistics.columns = [''.join(col).strip() for col in season_statistics.columns.values]\n",
    "season_statistics.head()"
   ]
  },
  {
   "cell_type": "code",
   "execution_count": 7,
   "metadata": {
    "_uuid": "7b0823d3286694619c9ba581f9cb03e3de64e0fe"
   },
   "outputs": [],
   "source": [
    "season_statistics_T1 = season_statistics.copy()\n",
    "season_statistics_T2 = season_statistics.copy()\n",
    "\n",
    "season_statistics_T1.columns = [\"T1_\" + x.replace(\"T1_\",\"\").replace(\"T2_\",\"opponent_\") for x in list(season_statistics_T1.columns)]\n",
    "season_statistics_T2.columns = [\"T2_\" + x.replace(\"T1_\",\"\").replace(\"T2_\",\"opponent_\") for x in list(season_statistics_T2.columns)]\n",
    "season_statistics_T1.columns.values[0] = \"Season\"\n",
    "season_statistics_T2.columns.values[0] = \"Season\""
   ]
  },
  {
   "cell_type": "markdown",
   "metadata": {},
   "source": [
    "Add features based on a small window."
   ]
  },
  {
   "cell_type": "code",
   "execution_count": 8,
   "metadata": {
    "_uuid": "b7fc3af9963e95de7c624038cf29a2c3bec54f6c"
   },
   "outputs": [],
   "source": [
    "last14days_stats_T1 = regular_data.loc[regular_data.DayNum>118].reset_index(drop=True)\n",
    "last14days_stats_T1['win'] = np.where(last14days_stats_T1['PointDiff']>0,1,0)\n",
    "last14days_stats_T1 = last14days_stats_T1.groupby(['Season','T1_TeamID'])['win'].mean().reset_index(name='T1_win_ratio_14d')\n",
    "\n",
    "last14days_stats_T2 = regular_data.loc[regular_data.DayNum>118].reset_index(drop=True)\n",
    "last14days_stats_T2['win'] = np.where(last14days_stats_T2['PointDiff']<0,1,0)\n",
    "last14days_stats_T2 = last14days_stats_T2.groupby(['Season','T2_TeamID'])['win'].mean().reset_index(name='T2_win_ratio_14d')"
   ]
  },
  {
   "cell_type": "code",
   "execution_count": 9,
   "metadata": {
    "_uuid": "edb1ffcacde763e070a6344c68978e7ff4fad698"
   },
   "outputs": [],
   "source": [
    "all_stats_T1 = regular_data.reset_index(drop=True)\n",
    "all_stats_T1['win'] = np.where(all_stats_T1['PointDiff']>0,1,0)\n",
    "all_stats_T1 = all_stats_T1.groupby(['Season','T1_TeamID'])['win'].mean().reset_index(name='T1_win_ratio_all')\n",
    "\n",
    "all_stats_T2 = regular_data.reset_index(drop=True)\n",
    "all_stats_T2['win'] = np.where(all_stats_T2['PointDiff']<0,1,0)\n",
    "all_stats_T2 = all_stats_T2.groupby(['Season','T2_TeamID'])['win'].mean().reset_index(name='T2_win_ratio_all')"
   ]
  },
  {
   "cell_type": "code",
   "execution_count": 10,
   "metadata": {
    "_uuid": "281cd8d2294a0787c0351c4b588a57ac4f4ee78b"
   },
   "outputs": [
    {
     "data": {
      "text/plain": [
       "(5638, 5)"
      ]
     },
     "execution_count": 10,
     "metadata": {},
     "output_type": "execute_result"
    }
   ],
   "source": [
    "regular_season_effects = regular_data[['Season','T1_TeamID','T2_TeamID','PointDiff']].copy()\n",
    "regular_season_effects['T1_TeamID'] = regular_season_effects['T1_TeamID'].astype(str)\n",
    "regular_season_effects['T2_TeamID'] = regular_season_effects['T2_TeamID'].astype(str)\n",
    "regular_season_effects['win'] = np.where(regular_season_effects['PointDiff']>0,1,0)\n",
    "march_madness = pd.merge(seeds[['Season','TeamID']],seeds[['Season','TeamID']],on='Season')\n",
    "march_madness.columns = ['Season', 'T1_TeamID', 'T2_TeamID']\n",
    "march_madness.T1_TeamID = march_madness.T1_TeamID.astype(str)\n",
    "march_madness.T2_TeamID = march_madness.T2_TeamID.astype(str)\n",
    "regular_season_effects = pd.merge(regular_season_effects, march_madness, on = ['Season','T1_TeamID','T2_TeamID'])\n",
    "regular_season_effects.shape"
   ]
  },
  {
   "cell_type": "markdown",
   "metadata": {},
   "source": [
    "Using generalized linear regression on the result of each match for each team, got the alpha (interception on y-axis) as the proxy for the team quality, this feature is based on each season window."
   ]
  },
  {
   "cell_type": "code",
   "execution_count": 11,
   "metadata": {
    "_uuid": "34115a69377f9998b3ad3be51e9f6c0f84ad6165"
   },
   "outputs": [],
   "source": [
    "def team_quality(season):\n",
    "    formula = 'win~-1+T1_TeamID+T2_TeamID'\n",
    "    glm = sm.GLM.from_formula(formula=formula, \n",
    "                              data=regular_season_effects.loc[regular_season_effects.Season==season,:], \n",
    "                              family=sm.families.Binomial()).fit()\n",
    "    \n",
    "    quality = pd.DataFrame(glm.params).reset_index()\n",
    "    quality.columns = ['TeamID','quality']\n",
    "    quality['Season'] = season\n",
    "    quality['quality'] = np.exp(quality['quality'])\n",
    "    quality = quality.loc[quality.TeamID.str.contains('T1_')].reset_index(drop=True)\n",
    "    quality['TeamID'] = quality['TeamID'].apply(lambda x: x[10:14]).astype(int)\n",
    "    return quality"
   ]
  },
  {
   "cell_type": "code",
   "execution_count": 12,
   "metadata": {
    "_uuid": "531641921ce88b6b50a24fc1eafaa32e071f0e86"
   },
   "outputs": [
    {
     "name": "stderr",
     "output_type": "stream",
     "text": [
      "/opt/conda/lib/python3.6/site-packages/statsmodels/genmod/families/family.py:880: RuntimeWarning: invalid value encountered in true_divide\n",
      "  n_endog_mu = self._clean((1. - endog) / (1. - mu))\n",
      "/opt/conda/lib/python3.6/site-packages/statsmodels/genmod/families/family.py:880: RuntimeWarning: divide by zero encountered in true_divide\n",
      "  n_endog_mu = self._clean((1. - endog) / (1. - mu))\n",
      "/opt/conda/lib/python3.6/site-packages/statsmodels/genmod/families/links.py:167: RuntimeWarning: overflow encountered in exp\n",
      "  t = np.exp(-z)\n",
      "/opt/conda/lib/python3.6/site-packages/statsmodels/genmod/families/family.py:879: RuntimeWarning: divide by zero encountered in true_divide\n",
      "  endog_mu = self._clean(endog / mu)\n",
      "/opt/conda/lib/python3.6/site-packages/statsmodels/genmod/families/family.py:879: RuntimeWarning: invalid value encountered in true_divide\n",
      "  endog_mu = self._clean(endog / mu)\n",
      "/opt/conda/lib/python3.6/site-packages/ipykernel_launcher.py:10: RuntimeWarning: overflow encountered in exp\n",
      "  # Remove the CWD from sys.path while we load stuff.\n"
     ]
    }
   ],
   "source": [
    "glm_quality = pd.concat([team_quality(2010),\n",
    "                         team_quality(2011),\n",
    "                         team_quality(2012),\n",
    "                         team_quality(2013),\n",
    "                         team_quality(2014),\n",
    "                         team_quality(2015),\n",
    "                         team_quality(2016),\n",
    "                         team_quality(2017),\n",
    "                         team_quality(2018),\n",
    "                         team_quality(2019)]).reset_index(drop=True)"
   ]
  },
  {
   "cell_type": "code",
   "execution_count": 13,
   "metadata": {
    "_uuid": "35783830106a41b87e0a20281f91bba0215be88a"
   },
   "outputs": [],
   "source": [
    "glm_quality_T1 = glm_quality.copy()\n",
    "glm_quality_T2 = glm_quality.copy()\n",
    "glm_quality_T1.columns = ['T1_TeamID','T1_quality','Season']\n",
    "glm_quality_T2.columns = ['T2_TeamID','T2_quality','Season']"
   ]
  },
  {
   "cell_type": "markdown",
   "metadata": {},
   "source": [
    "Seeds features."
   ]
  },
  {
   "cell_type": "code",
   "execution_count": 14,
   "metadata": {
    "_uuid": "ecfd6df0b72811f8fb309b4320862bb30cc6a419"
   },
   "outputs": [],
   "source": [
    "seeds['seed'] = seeds['Seed'].apply(lambda x: int(x[1:3]))\n",
    "seeds_T1 = seeds[['Season','TeamID','seed']].copy()\n",
    "seeds_T2 = seeds[['Season','TeamID','seed']].copy()\n",
    "seeds_T1.columns = ['Season','T1_TeamID','T1_seed']\n",
    "seeds_T2.columns = ['Season','T2_TeamID','T2_seed']"
   ]
  },
  {
   "cell_type": "code",
   "execution_count": 15,
   "metadata": {
    "_uuid": "88565466226baf84f07d7706fd9b096806093575"
   },
   "outputs": [
    {
     "data": {
      "text/html": [
       "<div>\n",
       "<style scoped>\n",
       "    .dataframe tbody tr th:only-of-type {\n",
       "        vertical-align: middle;\n",
       "    }\n",
       "\n",
       "    .dataframe tbody tr th {\n",
       "        vertical-align: top;\n",
       "    }\n",
       "\n",
       "    .dataframe thead th {\n",
       "        text-align: right;\n",
       "    }\n",
       "</style>\n",
       "<table border=\"1\" class=\"dataframe\">\n",
       "  <thead>\n",
       "    <tr style=\"text-align: right;\">\n",
       "      <th></th>\n",
       "      <th>Season</th>\n",
       "      <th>DayNum</th>\n",
       "      <th>T1_TeamID</th>\n",
       "      <th>T1_Score</th>\n",
       "      <th>T2_TeamID</th>\n",
       "      <th>T2_Score</th>\n",
       "    </tr>\n",
       "  </thead>\n",
       "  <tbody>\n",
       "    <tr>\n",
       "      <th>0</th>\n",
       "      <td>2010</td>\n",
       "      <td>138</td>\n",
       "      <td>3124</td>\n",
       "      <td>69</td>\n",
       "      <td>3201</td>\n",
       "      <td>55</td>\n",
       "    </tr>\n",
       "    <tr>\n",
       "      <th>1</th>\n",
       "      <td>2010</td>\n",
       "      <td>138</td>\n",
       "      <td>3173</td>\n",
       "      <td>67</td>\n",
       "      <td>3395</td>\n",
       "      <td>66</td>\n",
       "    </tr>\n",
       "    <tr>\n",
       "      <th>2</th>\n",
       "      <td>2010</td>\n",
       "      <td>138</td>\n",
       "      <td>3181</td>\n",
       "      <td>72</td>\n",
       "      <td>3214</td>\n",
       "      <td>37</td>\n",
       "    </tr>\n",
       "    <tr>\n",
       "      <th>3</th>\n",
       "      <td>2010</td>\n",
       "      <td>138</td>\n",
       "      <td>3199</td>\n",
       "      <td>75</td>\n",
       "      <td>3256</td>\n",
       "      <td>61</td>\n",
       "    </tr>\n",
       "    <tr>\n",
       "      <th>4</th>\n",
       "      <td>2010</td>\n",
       "      <td>138</td>\n",
       "      <td>3207</td>\n",
       "      <td>62</td>\n",
       "      <td>3265</td>\n",
       "      <td>42</td>\n",
       "    </tr>\n",
       "  </tbody>\n",
       "</table>\n",
       "</div>"
      ],
      "text/plain": [
       "   Season  DayNum  T1_TeamID  T1_Score  T2_TeamID  T2_Score\n",
       "0    2010     138       3124        69       3201        55\n",
       "1    2010     138       3173        67       3395        66\n",
       "2    2010     138       3181        72       3214        37\n",
       "3    2010     138       3199        75       3256        61\n",
       "4    2010     138       3207        62       3265        42"
      ]
     },
     "execution_count": 15,
     "metadata": {},
     "output_type": "execute_result"
    }
   ],
   "source": [
    "tourney_data = tourney_data[['Season', 'DayNum', 'T1_TeamID', 'T1_Score', 'T2_TeamID' ,'T2_Score']]\n",
    "tourney_data.head()"
   ]
  },
  {
   "cell_type": "markdown",
   "metadata": {},
   "source": [
    "Merge all features into the tourney level data for modeling."
   ]
  },
  {
   "cell_type": "code",
   "execution_count": 16,
   "metadata": {
    "_uuid": "83a8c920b96bc68e0b51b1bb1e1d1a98a21da55f"
   },
   "outputs": [],
   "source": [
    "tourney_data = pd.merge(tourney_data, season_statistics_T1, on = ['Season', 'T1_TeamID'], how = 'left')\n",
    "tourney_data = pd.merge(tourney_data, season_statistics_T2, on = ['Season', 'T2_TeamID'], how = 'left')\n",
    "tourney_data = pd.merge(tourney_data, last14days_stats_T1, on = ['Season', 'T1_TeamID'], how = 'left')\n",
    "tourney_data = pd.merge(tourney_data, last14days_stats_T2, on = ['Season', 'T2_TeamID'], how = 'left')\n",
    "tourney_data = pd.merge(tourney_data, all_stats_T1, on = ['Season', 'T1_TeamID'], how = 'left')\n",
    "tourney_data = pd.merge(tourney_data, all_stats_T2, on = ['Season', 'T2_TeamID'], how = 'left')\n",
    "tourney_data = pd.merge(tourney_data, glm_quality_T1, on = ['Season', 'T1_TeamID'], how = 'left')\n",
    "tourney_data = pd.merge(tourney_data, glm_quality_T2, on = ['Season', 'T2_TeamID'], how = 'left')\n",
    "tourney_data = pd.merge(tourney_data, seeds_T1, on = ['Season', 'T1_TeamID'], how = 'left')\n",
    "tourney_data = pd.merge(tourney_data, seeds_T2, on = ['Season', 'T2_TeamID'], how = 'left')\n",
    "tourney_data[\"Seed_diff\"] = tourney_data[\"T1_seed\"] - tourney_data[\"T2_seed\"]"
   ]
  },
  {
   "cell_type": "markdown",
   "metadata": {
    "_uuid": "9ce3967ebe4293c62f76175f33dd6008858acc40"
   },
   "source": [
    "# Model"
   ]
  },
  {
   "cell_type": "code",
   "execution_count": 17,
   "metadata": {
    "_uuid": "b2a7a438528b36757834fd14ce6002808208a334"
   },
   "outputs": [],
   "source": [
    "train = tourney_data\n",
    "train = tourney_data[tourney_data.Season!=2018].reset_index()"
   ]
  },
  {
   "cell_type": "code",
   "execution_count": 18,
   "metadata": {
    "_uuid": "7890e38a60e69fd12e51a638e837fe77f4ab321a"
   },
   "outputs": [
    {
     "data": {
      "text/plain": [
       "count    1008.000000\n",
       "mean        0.000000\n",
       "std        21.323163\n",
       "min       -89.000000\n",
       "25%       -14.000000\n",
       "50%         0.000000\n",
       "75%        14.000000\n",
       "max        89.000000\n",
       "dtype: float64"
      ]
     },
     "execution_count": 18,
     "metadata": {},
     "output_type": "execute_result"
    }
   ],
   "source": [
    "y = train['T1_Score'] - train['T2_Score']\n",
    "y.describe()"
   ]
  },
  {
   "cell_type": "code",
   "execution_count": 19,
   "metadata": {
    "_uuid": "13d022c76a975ad8720dd0ee56912740f0ec8a87"
   },
   "outputs": [],
   "source": [
    "# y = train['T1_Score'] > train['T2_Score']\n",
    "# y.describe()"
   ]
  },
  {
   "cell_type": "code",
   "execution_count": 20,
   "metadata": {
    "_uuid": "3ee7d6561f827b1ba522fb28b10b699638fe3d72"
   },
   "outputs": [
    {
     "data": {
      "text/plain": [
       "47"
      ]
     },
     "execution_count": 20,
     "metadata": {},
     "output_type": "execute_result"
    }
   ],
   "source": [
    "features = list(season_statistics_T1.columns[2:999]) + \\\n",
    "    list(season_statistics_T2.columns[2:999]) + \\\n",
    "    list(seeds_T1.columns[2:999]) + \\\n",
    "    list(seeds_T2.columns[2:999]) + \\\n",
    "    list(last14days_stats_T1.columns[2:999]) + \\\n",
    "    list(last14days_stats_T2.columns[2:999]) + \\\n",
    "    list(all_stats_T1.columns[2:999]) + \\\n",
    "    list(all_stats_T2.columns[2:999]) + \\\n",
    "    [\"Seed_diff\"] + [\"T1_quality\",\"T2_quality\"]\n",
    "\n",
    "len(features)"
   ]
  },
  {
   "cell_type": "markdown",
   "metadata": {},
   "source": [
    "Use xgboost as the model."
   ]
  },
  {
   "cell_type": "code",
   "execution_count": 21,
   "metadata": {
    "_uuid": "e3ab8ac5e605dd28bf159f102cd905b6cd590927"
   },
   "outputs": [
    {
     "name": "stderr",
     "output_type": "stream",
     "text": [
      "/opt/conda/lib/python3.6/site-packages/xgboost/core.py:587: FutureWarning: Series.base is deprecated and will be removed in a future version\n",
      "  if getattr(data, 'base', None) is not None and \\\n"
     ]
    }
   ],
   "source": [
    "X = train[features].values\n",
    "dtrain = xgb.DMatrix(X, label = y)"
   ]
  },
  {
   "cell_type": "markdown",
   "metadata": {},
   "source": [
    "Since we use MAE as the loss function, which is not second differenciable, but XGboost need the second order difference, so we use cauchy equation to approximate the hessian matrix."
   ]
  },
  {
   "cell_type": "code",
   "execution_count": 22,
   "metadata": {
    "_uuid": "c188420e876448db89e9692633e20c0f93fe8a48"
   },
   "outputs": [],
   "source": [
    "def cauchyobj(preds, dtrain):\n",
    "    labels = dtrain.get_label()\n",
    "    c = 3000 \n",
    "    x =  preds-labels    \n",
    "    grad = x / (x**2/c**2+1)\n",
    "    hess = -c**2*(x**2-c**2)/(x**2+c**2)**2\n",
    "    return grad, hess"
   ]
  },
  {
   "cell_type": "code",
   "execution_count": 23,
   "metadata": {
    "_uuid": "d5f02192af98bd37fe239b0cb0d90dec355a2f2a"
   },
   "outputs": [
    {
     "name": "stdout",
     "output_type": "stream",
     "text": [
      "{'eval_metric': 'mae', 'booster': 'gbtree', 'eta': 0.01, 'subsample': 0.35, 'colsample_bytree': 0.8, 'num_parallel_tree': 10, 'min_child_weight': 40, 'gamma': 5, 'max_depth': 5, 'silent': 1}\n"
     ]
    }
   ],
   "source": [
    "param = {} \n",
    "#param['objective'] = 'reg:linear'\n",
    "param['eval_metric'] =  'mae'\n",
    "param['booster'] = 'gbtree'\n",
    "param['eta'] = 0.01 \n",
    "param['subsample'] = 0.35\n",
    "param['colsample_bytree'] = 0.8\n",
    "param['num_parallel_tree'] = 10 \n",
    "param['min_child_weight'] = 40\n",
    "param['gamma'] = 5\n",
    "param['max_depth'] =  5\n",
    "param['silent'] = 1\n",
    "\n",
    "print(param)"
   ]
  },
  {
   "cell_type": "markdown",
   "metadata": {},
   "source": [
    "To estimate the optimal boosting round, here I use 5 different seeds, and within each seed, I use 8 fold cross validation to estimate the best boost round, save the results."
   ]
  },
  {
   "cell_type": "code",
   "execution_count": 24,
   "metadata": {
    "_uuid": "6e358aee27bdb82f03c94ac22672ffae5bb5f92d"
   },
   "outputs": [
    {
     "name": "stdout",
     "output_type": "stream",
     "text": [
      "Fold repeater 0\n",
      "[0]\ttrain-mae:16.739+0.167135\ttest-mae:16.743+1.17929\n",
      "[50]\ttrain-mae:13.3845+0.080268\ttest-mae:13.5397+0.806571\n",
      "[100]\ttrain-mae:11.6764+0.0618952\ttest-mae:11.9963+0.563962\n",
      "[150]\ttrain-mae:10.7883+0.0623625\ttest-mae:11.2666+0.45807\n",
      "[200]\ttrain-mae:10.2632+0.0629196\ttest-mae:10.884+0.427459\n",
      "[250]\ttrain-mae:9.89744+0.064782\ttest-mae:10.6641+0.4208\n",
      "[300]\ttrain-mae:9.61709+0.0602831\ttest-mae:10.5241+0.42767\n",
      "[350]\ttrain-mae:9.38422+0.0559547\ttest-mae:10.4313+0.428962\n",
      "[400]\ttrain-mae:9.18285+0.0517961\ttest-mae:10.3655+0.421223\n",
      "[450]\ttrain-mae:9.00379+0.0475068\ttest-mae:10.3147+0.414299\n",
      "[500]\ttrain-mae:8.84162+0.0445441\ttest-mae:10.2692+0.401175\n",
      "[550]\ttrain-mae:8.69256+0.0429516\ttest-mae:10.2392+0.393815\n",
      "[600]\ttrain-mae:8.55413+0.041728\ttest-mae:10.2171+0.378181\n",
      "[650]\ttrain-mae:8.42528+0.0404138\ttest-mae:10.198+0.363691\n",
      "[700]\ttrain-mae:8.30409+0.040119\ttest-mae:10.1817+0.34935\n",
      "[750]\ttrain-mae:8.19054+0.0389945\ttest-mae:10.1689+0.338138\n",
      "[800]\ttrain-mae:8.08163+0.0376564\ttest-mae:10.1543+0.325379\n",
      "[850]\ttrain-mae:7.9772+0.0354851\ttest-mae:10.1393+0.317184\n",
      "[900]\ttrain-mae:7.87787+0.0337501\ttest-mae:10.1276+0.308981\n",
      "[950]\ttrain-mae:7.78307+0.0333668\ttest-mae:10.1162+0.303386\n",
      "[1000]\ttrain-mae:7.69147+0.0346471\ttest-mae:10.106+0.297959\n",
      "[1050]\ttrain-mae:7.60315+0.0347497\ttest-mae:10.103+0.29119\n",
      "[1100]\ttrain-mae:7.51654+0.0356279\ttest-mae:10.0991+0.284295\n",
      "[1150]\ttrain-mae:7.43331+0.0353769\ttest-mae:10.0965+0.280426\n",
      "[1200]\ttrain-mae:7.35318+0.0358457\ttest-mae:10.0911+0.276595\n",
      "[1250]\ttrain-mae:7.27505+0.0358746\ttest-mae:10.0881+0.271109\n",
      "[1300]\ttrain-mae:7.19851+0.0364465\ttest-mae:10.0865+0.266269\n",
      "Fold repeater 1\n",
      "[0]\ttrain-mae:16.7391+0.147643\ttest-mae:16.741+1.03226\n",
      "[50]\ttrain-mae:13.3805+0.0971484\ttest-mae:13.5447+0.868421\n",
      "[100]\ttrain-mae:11.6777+0.0803877\ttest-mae:12.0087+0.700133\n",
      "[150]\ttrain-mae:10.7868+0.0683445\ttest-mae:11.2819+0.608366\n",
      "[200]\ttrain-mae:10.2623+0.0614531\ttest-mae:10.9011+0.546309\n",
      "[250]\ttrain-mae:9.89805+0.0568216\ttest-mae:10.6745+0.492803\n",
      "[300]\ttrain-mae:9.61582+0.0530138\ttest-mae:10.5336+0.461477\n",
      "[350]\ttrain-mae:9.3815+0.0520077\ttest-mae:10.4348+0.439858\n",
      "[400]\ttrain-mae:9.17978+0.0534556\ttest-mae:10.3634+0.42505\n",
      "[450]\ttrain-mae:8.99714+0.0551542\ttest-mae:10.3143+0.405001\n",
      "[500]\ttrain-mae:8.83517+0.0600786\ttest-mae:10.2733+0.393779\n",
      "[550]\ttrain-mae:8.68733+0.062861\ttest-mae:10.2463+0.383177\n",
      "[600]\ttrain-mae:8.54986+0.065608\ttest-mae:10.2268+0.37719\n",
      "[650]\ttrain-mae:8.42063+0.0682042\ttest-mae:10.207+0.376234\n",
      "[700]\ttrain-mae:8.29824+0.0713864\ttest-mae:10.1948+0.375101\n",
      "[750]\ttrain-mae:8.18293+0.0731956\ttest-mae:10.183+0.378777\n",
      "[800]\ttrain-mae:8.07375+0.0748211\ttest-mae:10.1765+0.381838\n",
      "[850]\ttrain-mae:7.96936+0.0759757\ttest-mae:10.1694+0.386019\n",
      "[900]\ttrain-mae:7.86957+0.0789723\ttest-mae:10.1585+0.391215\n",
      "[950]\ttrain-mae:7.77324+0.0800254\ttest-mae:10.1535+0.392713\n",
      "[1000]\ttrain-mae:7.68144+0.0815375\ttest-mae:10.1545+0.401742\n",
      "[1050]\ttrain-mae:7.59327+0.0817872\ttest-mae:10.154+0.408501\n",
      "Fold repeater 2\n",
      "[0]\ttrain-mae:16.7386+0.134893\ttest-mae:16.7418+0.958821\n",
      "[50]\ttrain-mae:13.3799+0.0647829\ttest-mae:13.5738+0.71198\n",
      "[100]\ttrain-mae:11.6758+0.0472748\ttest-mae:12.0583+0.499944\n",
      "[150]\ttrain-mae:10.7831+0.0446522\ttest-mae:11.3372+0.419576\n",
      "[200]\ttrain-mae:10.2534+0.0394076\ttest-mae:10.9647+0.394298\n",
      "[250]\ttrain-mae:9.89024+0.0399308\ttest-mae:10.7556+0.383048\n",
      "[300]\ttrain-mae:9.60497+0.0414348\ttest-mae:10.6277+0.379552\n",
      "[350]\ttrain-mae:9.37294+0.0391892\ttest-mae:10.5383+0.366786\n",
      "[400]\ttrain-mae:9.16924+0.0399545\ttest-mae:10.4714+0.36238\n",
      "[450]\ttrain-mae:8.98798+0.0406944\ttest-mae:10.4243+0.361701\n",
      "[500]\ttrain-mae:8.82476+0.0412589\ttest-mae:10.3851+0.359674\n",
      "[550]\ttrain-mae:8.67866+0.042169\ttest-mae:10.3618+0.358985\n",
      "[600]\ttrain-mae:8.54196+0.044187\ttest-mae:10.3412+0.360732\n",
      "[650]\ttrain-mae:8.41507+0.0456924\ttest-mae:10.3232+0.361672\n",
      "[700]\ttrain-mae:8.29332+0.0465631\ttest-mae:10.3056+0.369137\n",
      "[750]\ttrain-mae:8.1782+0.0471241\ttest-mae:10.2943+0.375804\n",
      "[800]\ttrain-mae:8.06817+0.0473566\ttest-mae:10.2838+0.380081\n",
      "[850]\ttrain-mae:7.96441+0.0475191\ttest-mae:10.2784+0.380278\n",
      "[900]\ttrain-mae:7.86378+0.0480009\ttest-mae:10.2687+0.379822\n",
      "[950]\ttrain-mae:7.76799+0.0491913\ttest-mae:10.2627+0.384833\n",
      "[1000]\ttrain-mae:7.67786+0.0502231\ttest-mae:10.2546+0.391277\n",
      "[1050]\ttrain-mae:7.58848+0.052172\ttest-mae:10.2536+0.391187\n",
      "Fold repeater 3\n",
      "[0]\ttrain-mae:16.739+0.15374\ttest-mae:16.7409+1.08636\n",
      "[50]\ttrain-mae:13.3831+0.127225\ttest-mae:13.5303+1.02611\n",
      "[100]\ttrain-mae:11.6773+0.114148\ttest-mae:11.9935+0.986048\n",
      "[150]\ttrain-mae:10.7866+0.103353\ttest-mae:11.2773+0.909471\n",
      "[200]\ttrain-mae:10.2543+0.097102\ttest-mae:10.92+0.858174\n",
      "[250]\ttrain-mae:9.89144+0.0911651\ttest-mae:10.7199+0.827832\n",
      "[300]\ttrain-mae:9.60752+0.0872435\ttest-mae:10.5912+0.804795\n",
      "[350]\ttrain-mae:9.3736+0.0871773\ttest-mae:10.507+0.785356\n",
      "[400]\ttrain-mae:9.16968+0.0858679\ttest-mae:10.4429+0.773479\n",
      "[450]\ttrain-mae:8.9899+0.0850317\ttest-mae:10.3963+0.762097\n",
      "[500]\ttrain-mae:8.82692+0.0837157\ttest-mae:10.3644+0.756301\n",
      "[550]\ttrain-mae:8.67909+0.0808441\ttest-mae:10.34+0.745593\n",
      "[600]\ttrain-mae:8.54246+0.0784219\ttest-mae:10.3158+0.73558\n",
      "[650]\ttrain-mae:8.41275+0.0767856\ttest-mae:10.296+0.730143\n",
      "[700]\ttrain-mae:8.29041+0.0761828\ttest-mae:10.2783+0.726711\n",
      "[750]\ttrain-mae:8.17554+0.0746868\ttest-mae:10.2711+0.724829\n",
      "[800]\ttrain-mae:8.06736+0.0747544\ttest-mae:10.2627+0.72265\n",
      "[850]\ttrain-mae:7.96498+0.0738739\ttest-mae:10.2571+0.722936\n",
      "[900]\ttrain-mae:7.86493+0.0725024\ttest-mae:10.2559+0.719536\n",
      "Fold repeater 4\n",
      "[0]\ttrain-mae:16.7379+0.133576\ttest-mae:16.7404+0.937876\n",
      "[50]\ttrain-mae:13.3816+0.0731843\ttest-mae:13.5505+0.60662\n",
      "[100]\ttrain-mae:11.6761+0.0707152\ttest-mae:12.0014+0.545776\n",
      "[150]\ttrain-mae:10.7846+0.0724475\ttest-mae:11.2779+0.564629\n",
      "[200]\ttrain-mae:10.2557+0.0706924\ttest-mae:10.9092+0.591455\n",
      "[250]\ttrain-mae:9.89205+0.0718725\ttest-mae:10.7004+0.585282\n",
      "[300]\ttrain-mae:9.61049+0.0707419\ttest-mae:10.5623+0.577237\n",
      "[350]\ttrain-mae:9.37936+0.0675412\ttest-mae:10.4695+0.569171\n",
      "[400]\ttrain-mae:9.17715+0.0657301\ttest-mae:10.3975+0.566911\n",
      "[450]\ttrain-mae:8.9979+0.0661256\ttest-mae:10.3495+0.570588\n",
      "[500]\ttrain-mae:8.83706+0.06643\ttest-mae:10.316+0.567645\n",
      "[550]\ttrain-mae:8.68915+0.0668271\ttest-mae:10.2849+0.560328\n",
      "[600]\ttrain-mae:8.55149+0.0683319\ttest-mae:10.2639+0.557664\n",
      "[650]\ttrain-mae:8.42387+0.0673516\ttest-mae:10.2487+0.557944\n",
      "[700]\ttrain-mae:8.30213+0.0669041\ttest-mae:10.234+0.560203\n",
      "[750]\ttrain-mae:8.18929+0.0669059\ttest-mae:10.2202+0.560861\n",
      "[800]\ttrain-mae:8.08058+0.0669089\ttest-mae:10.2128+0.56116\n",
      "[850]\ttrain-mae:7.97701+0.0673396\ttest-mae:10.2041+0.566286\n",
      "[900]\ttrain-mae:7.87659+0.0659485\ttest-mae:10.2046+0.568927\n"
     ]
    }
   ],
   "source": [
    "xgb_cv = []\n",
    "repeat_cv = 5 \n",
    "\n",
    "for i in range(repeat_cv): \n",
    "    print(f\"Fold repeater {i}\")\n",
    "    xgb_cv.append(\n",
    "        xgb.cv(\n",
    "          params = param,\n",
    "          dtrain = dtrain,\n",
    "          obj = cauchyobj,\n",
    "          num_boost_round = 3000,\n",
    "          folds = KFold(n_splits = 8, shuffle = True, random_state = i+666),\n",
    "          early_stopping_rounds = 40,\n",
    "          verbose_eval = 50\n",
    "        )\n",
    "    )"
   ]
  },
  {
   "cell_type": "code",
   "execution_count": 25,
   "metadata": {
    "_uuid": "2cffe6b5d7666d78e8bff22be1ec769b35a74dc4"
   },
   "outputs": [
    {
     "data": {
      "text/plain": [
       "([1293, 1014, 1040, 885, 873],\n",
       " [10.085156875, 10.152741875, 10.251944, 10.25454, 10.202671125000002])"
      ]
     },
     "execution_count": 25,
     "metadata": {},
     "output_type": "execute_result"
    }
   ],
   "source": [
    "iteration_counts = [np.argmin(x['test-mae-mean'].values) for x in xgb_cv]\n",
    "val_mae = [np.min(x['test-mae-mean'].values) for x in xgb_cv]\n",
    "iteration_counts, val_mae"
   ]
  },
  {
   "cell_type": "markdown",
   "metadata": {},
   "source": [
    "Use the estimated best round to make the whole prediction for the training data, use 5-fold cross validation."
   ]
  },
  {
   "cell_type": "code",
   "execution_count": 26,
   "metadata": {
    "_uuid": "62fbbef6d457bbbd84a75ec978bd07d922c12f33",
    "scrolled": true
   },
   "outputs": [
    {
     "name": "stdout",
     "output_type": "stream",
     "text": [
      "Fold repeater 0\n"
     ]
    },
    {
     "name": "stderr",
     "output_type": "stream",
     "text": [
      "/opt/conda/lib/python3.6/site-packages/xgboost/core.py:587: FutureWarning: Series.base is deprecated and will be removed in a future version\n",
      "  if getattr(data, 'base', None) is not None and \\\n"
     ]
    },
    {
     "name": "stdout",
     "output_type": "stream",
     "text": [
      "Fold repeater 1\n",
      "Fold repeater 2\n",
      "Fold repeater 3\n",
      "Fold repeater 4\n"
     ]
    }
   ],
   "source": [
    "oof_preds = []\n",
    "for i in range(repeat_cv):\n",
    "    print(f\"Fold repeater {i}\")\n",
    "    preds = y.copy()\n",
    "    kfold = KFold(n_splits = 5, shuffle = True, random_state = i)    \n",
    "    for train_index, val_index in kfold.split(X,y):\n",
    "        dtrain_i = xgb.DMatrix(X[train_index], label = y[train_index])\n",
    "        dval_i = xgb.DMatrix(X[val_index], label = y[val_index])  \n",
    "        model = xgb.train(\n",
    "              params = param,\n",
    "              dtrain = dtrain_i,\n",
    "              num_boost_round = iteration_counts[i],\n",
    "              verbose_eval = 50\n",
    "        )\n",
    "        preds[val_index] = model.predict(dval_i)\n",
    "    oof_preds.append(np.clip(preds,-30,30))"
   ]
  },
  {
   "cell_type": "markdown",
   "metadata": {},
   "source": [
    "Go to the next stage model, firstly check the win rate for each integer prediction."
   ]
  },
  {
   "cell_type": "code",
   "execution_count": 27,
   "metadata": {
    "_uuid": "48aaae2b5c2b2c6b9578bc5b1b08e85b3f9b4e8c"
   },
   "outputs": [
    {
     "data": {
      "text/plain": [
       "[<matplotlib.lines.Line2D at 0x7fa797b01208>]"
      ]
     },
     "execution_count": 27,
     "metadata": {},
     "output_type": "execute_result"
    },
    {
     "data": {
      "image/png": "[encoded data removed]",
      "text/plain": [
       "<Figure size 432x288 with 1 Axes>"
      ]
     },
     "metadata": {},
     "output_type": "display_data"
    }
   ],
   "source": [
    "plot_df = pd.DataFrame({\"pred\":oof_preds[0], \"label\":np.where(y>0,1,0)})\n",
    "plot_df[\"pred_int\"] = plot_df[\"pred\"].astype(int)\n",
    "plot_df = plot_df.groupby('pred_int')['label'].mean().reset_index(name='average_win_pct')\n",
    "\n",
    "plt.figure()\n",
    "plt.plot(plot_df.pred_int,plot_df.average_win_pct)"
   ]
  },
  {
   "cell_type": "markdown",
   "metadata": {},
   "source": [
    "There are some strikes for the prediction line, and not Monotonically increasing, so here I use spline interporlation to smooth the prediction for the second stage."
   ]
  },
  {
   "cell_type": "code",
   "execution_count": 28,
   "metadata": {
    "_uuid": "012ebe44137d03e461da16ffcdb154fd77b3ef8d"
   },
   "outputs": [
    {
     "name": "stdout",
     "output_type": "stream",
     "text": [
      "logloss of cvsplit 0: 0.4262704674606808\n",
      "logloss of cvsplit 1: 0.42579438965873484\n",
      "logloss of cvsplit 2: 0.4259592853662835\n",
      "logloss of cvsplit 3: 0.4250627061729696\n",
      "logloss of cvsplit 4: 0.42810660907128123\n"
     ]
    }
   ],
   "source": [
    "spline_model = []\n",
    "\n",
    "for i in range(repeat_cv):\n",
    "    dat = list(zip(oof_preds[i],np.where(y>0,1,0)))\n",
    "    dat = sorted(dat, key = lambda x: x[0])\n",
    "    datdict = {}\n",
    "    for k in range(len(dat)):\n",
    "        datdict[dat[k][0]]= dat[k][1]\n",
    "        \n",
    "    spline_model.append(UnivariateSpline(list(datdict.keys()), list(datdict.values())))\n",
    "    spline_fit = spline_model[i](oof_preds[i])\n",
    "    \n",
    "    print(f\"logloss of cvsplit {i}: {log_loss(np.where(y>0,1,0),spline_fit)}\") "
   ]
  },
  {
   "cell_type": "markdown",
   "metadata": {},
   "source": [
    "Check the predictions before and after spline smoothing."
   ]
  },
  {
   "cell_type": "code",
   "execution_count": 29,
   "metadata": {
    "_uuid": "0d5f81e309ff31caadaabcdf52068396316c5558"
   },
   "outputs": [
    {
     "data": {
      "text/plain": [
       "[<matplotlib.lines.Line2D at 0x7fa797b77208>]"
      ]
     },
     "execution_count": 29,
     "metadata": {},
     "output_type": "execute_result"
    },
    {
     "data": {
      "image/png": "[encoded data removed]",
      "text/plain": [
       "<Figure size 720x432 with 1 Axes>"
      ]
     },
     "metadata": {},
     "output_type": "display_data"
    }
   ],
   "source": [
    "plot_df = pd.DataFrame({\"pred\":oof_preds[0], \"label\":np.where(y>0,1,0), \"spline\":spline_model[0](oof_preds[0])})\n",
    "plot_df[\"pred_int\"] = (plot_df[\"pred\"]).astype(int)\n",
    "plot_df = plot_df.groupby('pred_int')['spline','label'].mean().reset_index()\n",
    "\n",
    "plt.figure(figsize=(10,6))\n",
    "plt.title('Spline Smoothing of Stage 1 Predictions')\n",
    "plt.plot(plot_df.pred_int,plot_df.spline)\n",
    "plt.plot(plot_df.pred_int,plot_df.label)"
   ]
  },
  {
   "cell_type": "markdown",
   "metadata": {},
   "source": [
    "More tricks:\n",
    " - Clip the extreme predictions, since the evaluation metric is log-loss, which is sensitive to extreme values, and the marginal for those extreme predictions are small but risk is large.\n",
    " - Mannually change the predictions for some cases with really small probability, like upsets."
   ]
  },
  {
   "cell_type": "markdown",
   "metadata": {},
   "source": [
    "Firstly, just check the clip influence."
   ]
  },
  {
   "cell_type": "code",
   "execution_count": 30,
   "metadata": {
    "_uuid": "27b04b0c030a2ec7121c5bdb201992751b9188c1"
   },
   "outputs": [
    {
     "name": "stdout",
     "output_type": "stream",
     "text": [
      "adjusted logloss of cvsplit 0: 0.4303563426847371\n",
      "adjusted logloss of cvsplit 1: 0.4298707016027944\n",
      "adjusted logloss of cvsplit 2: 0.42937594231540877\n",
      "adjusted logloss of cvsplit 3: 0.42895194839260165\n",
      "adjusted logloss of cvsplit 4: 0.4320416604813673\n"
     ]
    }
   ],
   "source": [
    "spline_model = []\n",
    "\n",
    "for i in range(repeat_cv):\n",
    "    dat = list(zip(oof_preds[i],np.where(y>0,1,0)))\n",
    "    dat = sorted(dat, key = lambda x: x[0])\n",
    "    datdict = {}\n",
    "    for k in range(len(dat)):\n",
    "        datdict[dat[k][0]]= dat[k][1]\n",
    "    spline_model.append(UnivariateSpline(list(datdict.keys()), list(datdict.values())))\n",
    "    spline_fit = spline_model[i](oof_preds[i])\n",
    "    spline_fit = np.clip(spline_fit,0.025,0.975)\n",
    "    \n",
    "    print(f\"adjusted logloss of cvsplit {i}: {log_loss(np.where(y>0,1,0),spline_fit)}\") "
   ]
  },
  {
   "cell_type": "markdown",
   "metadata": {},
   "source": [
    "Then check manually upset setting influence.\n",
    "Set the first four seeds win rate to be 100%."
   ]
  },
  {
   "cell_type": "code",
   "execution_count": 31,
   "metadata": {
    "_uuid": "f0a7ca22e2433fcc4083283c38537ad521f76037"
   },
   "outputs": [
    {
     "name": "stdout",
     "output_type": "stream",
     "text": [
      "adjusted logloss of cvsplit 0: 0.4754485415775265\n",
      "adjusted logloss of cvsplit 1: 0.4744012734484976\n",
      "adjusted logloss of cvsplit 2: 0.47360666188789063\n",
      "adjusted logloss of cvsplit 3: 0.4741932874352704\n",
      "adjusted logloss of cvsplit 4: 0.4756121382838245\n"
     ]
    }
   ],
   "source": [
    "spline_model = []\n",
    "\n",
    "for i in range(repeat_cv):\n",
    "    dat = list(zip(oof_preds[i],np.where(y>0,1,0)))\n",
    "    dat = sorted(dat, key = lambda x: x[0])\n",
    "    datdict = {}\n",
    "    for k in range(len(dat)):\n",
    "        datdict[dat[k][0]]= dat[k][1]\n",
    "    spline_model.append(UnivariateSpline(list(datdict.keys()), list(datdict.values())))\n",
    "    spline_fit = spline_model[i](oof_preds[i])\n",
    "#     spline_fit = np.clip(spline_fit,0.025,0.975)\n",
    "    spline_fit[(train.T1_seed==1) & (train.T2_seed==16)] = 1.0\n",
    "    spline_fit[(train.T1_seed==2) & (train.T2_seed==15)] = 1.0\n",
    "    spline_fit[(train.T1_seed==3) & (train.T2_seed==14)] = 1.0\n",
    "    spline_fit[(train.T1_seed==4) & (train.T2_seed==13)] = 1.0\n",
    "    spline_fit[(train.T1_seed==16) & (train.T2_seed==1)] = 0.0\n",
    "    spline_fit[(train.T1_seed==15) & (train.T2_seed==2)] = 0.0\n",
    "    spline_fit[(train.T1_seed==14) & (train.T2_seed==3)] = 0.0\n",
    "    spline_fit[(train.T1_seed==13) & (train.T2_seed==4)] = 0.0\n",
    "    \n",
    "    print(f\"adjusted logloss of cvsplit {i}: {log_loss(np.where(y>0,1,0),spline_fit)}\") "
   ]
  },
  {
   "cell_type": "markdown",
   "metadata": {},
   "source": [
    "It seems the mannually setting upset would make the model much worse, but this could because of the few cases happened in certain years, so need to continuely check the upset situation in different years."
   ]
  },
  {
   "cell_type": "code",
   "execution_count": 32,
   "metadata": {},
   "outputs": [
    {
     "data": {
      "text/html": [
       "<div>\n",
       "<style scoped>\n",
       "    .dataframe tbody tr th:only-of-type {\n",
       "        vertical-align: middle;\n",
       "    }\n",
       "\n",
       "    .dataframe tbody tr th {\n",
       "        vertical-align: top;\n",
       "    }\n",
       "\n",
       "    .dataframe thead th {\n",
       "        text-align: right;\n",
       "    }\n",
       "</style>\n",
       "<table border=\"1\" class=\"dataframe\">\n",
       "  <thead>\n",
       "    <tr style=\"text-align: right;\">\n",
       "      <th></th>\n",
       "      <th>Season</th>\n",
       "      <th>DayNum</th>\n",
       "      <th>T1_TeamID</th>\n",
       "      <th>T1_Score</th>\n",
       "      <th>T2_TeamID</th>\n",
       "      <th>T2_Score</th>\n",
       "      <th>T1_FGMmean</th>\n",
       "      <th>T1_FGAmean</th>\n",
       "      <th>T1_FGM3mean</th>\n",
       "      <th>T1_FGA3mean</th>\n",
       "      <th>T1_ORmean</th>\n",
       "      <th>T1_Astmean</th>\n",
       "      <th>T1_TOmean</th>\n",
       "      <th>T1_Stlmean</th>\n",
       "      <th>T1_PFmean</th>\n",
       "      <th>T1_opponent_FGMmean</th>\n",
       "      <th>T1_opponent_FGAmean</th>\n",
       "      <th>T1_opponent_FGM3mean</th>\n",
       "      <th>T1_opponent_FGA3mean</th>\n",
       "      <th>T1_opponent_ORmean</th>\n",
       "      <th>T1_opponent_Astmean</th>\n",
       "      <th>T1_opponent_TOmean</th>\n",
       "      <th>T1_opponent_Stlmean</th>\n",
       "      <th>T1_opponent_Blkmean</th>\n",
       "      <th>T1_PointDiffmean</th>\n",
       "      <th>T2_FGMmean</th>\n",
       "      <th>T2_FGAmean</th>\n",
       "      <th>T2_FGM3mean</th>\n",
       "      <th>T2_FGA3mean</th>\n",
       "      <th>T2_ORmean</th>\n",
       "      <th>T2_Astmean</th>\n",
       "      <th>T2_TOmean</th>\n",
       "      <th>T2_Stlmean</th>\n",
       "      <th>T2_PFmean</th>\n",
       "      <th>T2_opponent_FGMmean</th>\n",
       "      <th>T2_opponent_FGAmean</th>\n",
       "      <th>T2_opponent_FGM3mean</th>\n",
       "      <th>T2_opponent_FGA3mean</th>\n",
       "      <th>T2_opponent_ORmean</th>\n",
       "      <th>T2_opponent_Astmean</th>\n",
       "      <th>T2_opponent_TOmean</th>\n",
       "      <th>T2_opponent_Stlmean</th>\n",
       "      <th>T2_opponent_Blkmean</th>\n",
       "      <th>T2_PointDiffmean</th>\n",
       "      <th>T1_win_ratio_14d</th>\n",
       "      <th>T2_win_ratio_14d</th>\n",
       "      <th>T1_win_ratio_all</th>\n",
       "      <th>T2_win_ratio_all</th>\n",
       "      <th>T1_quality</th>\n",
       "      <th>T2_quality</th>\n",
       "      <th>T1_seed</th>\n",
       "      <th>T2_seed</th>\n",
       "      <th>Seed_diff</th>\n",
       "    </tr>\n",
       "  </thead>\n",
       "  <tbody>\n",
       "    <tr>\n",
       "      <th>718</th>\n",
       "      <td>2012</td>\n",
       "      <td>139</td>\n",
       "      <td>3208</td>\n",
       "      <td>70</td>\n",
       "      <td>3265</td>\n",
       "      <td>76</td>\n",
       "      <td>26.137931</td>\n",
       "      <td>61.0000</td>\n",
       "      <td>4.551724</td>\n",
       "      <td>14.62069</td>\n",
       "      <td>14.586207</td>\n",
       "      <td>12.931034</td>\n",
       "      <td>14.931034</td>\n",
       "      <td>10.758621</td>\n",
       "      <td>16.344828</td>\n",
       "      <td>21.206897</td>\n",
       "      <td>55.724138</td>\n",
       "      <td>4.862069</td>\n",
       "      <td>16.62069</td>\n",
       "      <td>13.37931</td>\n",
       "      <td>10.965517</td>\n",
       "      <td>19.724138</td>\n",
       "      <td>6.931034</td>\n",
       "      <td>3.482759</td>\n",
       "      <td>10.827586</td>\n",
       "      <td>23.156250</td>\n",
       "      <td>55.3125</td>\n",
       "      <td>7.031250</td>\n",
       "      <td>21.96875</td>\n",
       "      <td>9.281250</td>\n",
       "      <td>15.343750</td>\n",
       "      <td>13.906250</td>\n",
       "      <td>9.687500</td>\n",
       "      <td>12.937500</td>\n",
       "      <td>20.062500</td>\n",
       "      <td>57.937500</td>\n",
       "      <td>5.718750</td>\n",
       "      <td>17.84375</td>\n",
       "      <td>13.81250</td>\n",
       "      <td>11.218750</td>\n",
       "      <td>16.843750</td>\n",
       "      <td>7.125000</td>\n",
       "      <td>2.468750</td>\n",
       "      <td>9.781250</td>\n",
       "      <td>0.0</td>\n",
       "      <td>1.0</td>\n",
       "      <td>0.724138</td>\n",
       "      <td>0.781250</td>\n",
       "      <td>inf</td>\n",
       "      <td>inf</td>\n",
       "      <td>4</td>\n",
       "      <td>13</td>\n",
       "      <td>-9</td>\n",
       "    </tr>\n",
       "    <tr>\n",
       "      <th>151</th>\n",
       "      <td>2012</td>\n",
       "      <td>139</td>\n",
       "      <td>3265</td>\n",
       "      <td>76</td>\n",
       "      <td>3208</td>\n",
       "      <td>70</td>\n",
       "      <td>23.156250</td>\n",
       "      <td>55.3125</td>\n",
       "      <td>7.031250</td>\n",
       "      <td>21.96875</td>\n",
       "      <td>9.281250</td>\n",
       "      <td>15.343750</td>\n",
       "      <td>13.906250</td>\n",
       "      <td>9.687500</td>\n",
       "      <td>12.937500</td>\n",
       "      <td>20.062500</td>\n",
       "      <td>57.937500</td>\n",
       "      <td>5.718750</td>\n",
       "      <td>17.84375</td>\n",
       "      <td>13.81250</td>\n",
       "      <td>11.218750</td>\n",
       "      <td>16.843750</td>\n",
       "      <td>7.125000</td>\n",
       "      <td>2.468750</td>\n",
       "      <td>9.781250</td>\n",
       "      <td>26.137931</td>\n",
       "      <td>61.0000</td>\n",
       "      <td>4.551724</td>\n",
       "      <td>14.62069</td>\n",
       "      <td>14.586207</td>\n",
       "      <td>12.931034</td>\n",
       "      <td>14.931034</td>\n",
       "      <td>10.758621</td>\n",
       "      <td>16.344828</td>\n",
       "      <td>21.206897</td>\n",
       "      <td>55.724138</td>\n",
       "      <td>4.862069</td>\n",
       "      <td>16.62069</td>\n",
       "      <td>13.37931</td>\n",
       "      <td>10.965517</td>\n",
       "      <td>19.724138</td>\n",
       "      <td>6.931034</td>\n",
       "      <td>3.482759</td>\n",
       "      <td>10.827586</td>\n",
       "      <td>1.0</td>\n",
       "      <td>0.0</td>\n",
       "      <td>0.781250</td>\n",
       "      <td>0.724138</td>\n",
       "      <td>inf</td>\n",
       "      <td>inf</td>\n",
       "      <td>13</td>\n",
       "      <td>4</td>\n",
       "      <td>9</td>\n",
       "    </tr>\n",
       "  </tbody>\n",
       "</table>\n",
       "</div>"
      ],
      "text/plain": [
       "     Season  DayNum  T1_TeamID  T1_Score  T2_TeamID  T2_Score  T1_FGMmean  \\\n",
       "718    2012     139       3208        70       3265        76   26.137931   \n",
       "151    2012     139       3265        76       3208        70   23.156250   \n",
       "\n",
       "     T1_FGAmean  T1_FGM3mean  T1_FGA3mean  T1_ORmean  T1_Astmean  T1_TOmean  \\\n",
       "718     61.0000     4.551724     14.62069  14.586207   12.931034  14.931034   \n",
       "151     55.3125     7.031250     21.96875   9.281250   15.343750  13.906250   \n",
       "\n",
       "     T1_Stlmean  T1_PFmean  T1_opponent_FGMmean  T1_opponent_FGAmean  \\\n",
       "718   10.758621  16.344828            21.206897            55.724138   \n",
       "151    9.687500  12.937500            20.062500            57.937500   \n",
       "\n",
       "     T1_opponent_FGM3mean  T1_opponent_FGA3mean  T1_opponent_ORmean  \\\n",
       "718              4.862069              16.62069            13.37931   \n",
       "151              5.718750              17.84375            13.81250   \n",
       "\n",
       "     T1_opponent_Astmean  T1_opponent_TOmean  T1_opponent_Stlmean  \\\n",
       "718            10.965517           19.724138             6.931034   \n",
       "151            11.218750           16.843750             7.125000   \n",
       "\n",
       "     T1_opponent_Blkmean  T1_PointDiffmean  T2_FGMmean  T2_FGAmean  \\\n",
       "718             3.482759         10.827586   23.156250     55.3125   \n",
       "151             2.468750          9.781250   26.137931     61.0000   \n",
       "\n",
       "     T2_FGM3mean  T2_FGA3mean  T2_ORmean  T2_Astmean  T2_TOmean  T2_Stlmean  \\\n",
       "718     7.031250     21.96875   9.281250   15.343750  13.906250    9.687500   \n",
       "151     4.551724     14.62069  14.586207   12.931034  14.931034   10.758621   \n",
       "\n",
       "     T2_PFmean  T2_opponent_FGMmean  T2_opponent_FGAmean  \\\n",
       "718  12.937500            20.062500            57.937500   \n",
       "151  16.344828            21.206897            55.724138   \n",
       "\n",
       "     T2_opponent_FGM3mean  T2_opponent_FGA3mean  T2_opponent_ORmean  \\\n",
       "718              5.718750              17.84375            13.81250   \n",
       "151              4.862069              16.62069            13.37931   \n",
       "\n",
       "     T2_opponent_Astmean  T2_opponent_TOmean  T2_opponent_Stlmean  \\\n",
       "718            11.218750           16.843750             7.125000   \n",
       "151            10.965517           19.724138             6.931034   \n",
       "\n",
       "     T2_opponent_Blkmean  T2_PointDiffmean  T1_win_ratio_14d  \\\n",
       "718             2.468750          9.781250               0.0   \n",
       "151             3.482759         10.827586               1.0   \n",
       "\n",
       "     T2_win_ratio_14d  T1_win_ratio_all  T2_win_ratio_all  T1_quality  \\\n",
       "718               1.0          0.724138          0.781250         inf   \n",
       "151               0.0          0.781250          0.724138         inf   \n",
       "\n",
       "     T2_quality  T1_seed  T2_seed  Seed_diff  \n",
       "718         inf        4       13         -9  \n",
       "151         inf       13        4          9  "
      ]
     },
     "execution_count": 32,
     "metadata": {},
     "output_type": "execute_result"
    }
   ],
   "source": [
    "#looking for upsets\n",
    "pd.concat(\n",
    "    [tourney_data[(tourney_data.T1_seed==1) & (tourney_data.T2_seed==16) & (tourney_data.T1_Score < tourney_data.T2_Score)],\n",
    "     tourney_data[(tourney_data.T1_seed==2) & (tourney_data.T2_seed==15) & (tourney_data.T1_Score < tourney_data.T2_Score)],\n",
    "     tourney_data[(tourney_data.T1_seed==3) & (tourney_data.T2_seed==14) & (tourney_data.T1_Score < tourney_data.T2_Score)],\n",
    "     tourney_data[(tourney_data.T1_seed==4) & (tourney_data.T2_seed==13) & (tourney_data.T1_Score < tourney_data.T2_Score)],\n",
    "     tourney_data[(tourney_data.T1_seed==16) & (tourney_data.T2_seed==1) & (tourney_data.T1_Score > tourney_data.T2_Score)],\n",
    "     tourney_data[(tourney_data.T1_seed==15) & (tourney_data.T2_seed==2) & (tourney_data.T1_Score > tourney_data.T2_Score)],\n",
    "     tourney_data[(tourney_data.T1_seed==14) & (tourney_data.T2_seed==3) & (tourney_data.T1_Score > tourney_data.T2_Score)],\n",
    "     tourney_data[(tourney_data.T1_seed==13) & (tourney_data.T2_seed==4) & (tourney_data.T1_Score > tourney_data.T2_Score)]]\n",
    ")   "
   ]
  },
  {
   "cell_type": "markdown",
   "metadata": {},
   "source": [
    "So actually there are only one case that the upset happened in our dataset. In 2012, the seed 13 team beat the seed 4 team, it would be safe to manually set this prediction in my view. Check the influence after ignoring this case."
   ]
  },
  {
   "cell_type": "code",
   "execution_count": 33,
   "metadata": {
    "_uuid": "0666f1f193b3128854614dd0b2e7de130fcdd01a"
   },
   "outputs": [
    {
     "name": "stdout",
     "output_type": "stream",
     "text": [
      "adjusted logloss of cvsplit 0: 0.4117058200877926\n",
      "adjusted logloss of cvsplit 1: 0.41106006468287637\n",
      "adjusted logloss of cvsplit 2: 0.4107297248548715\n",
      "adjusted logloss of cvsplit 3: 0.4105992750646347\n",
      "adjusted logloss of cvsplit 4: 0.41269087946919186\n"
     ]
    }
   ],
   "source": [
    "spline_model = []\n",
    "\n",
    "for i in range(repeat_cv):\n",
    "    dat = list(zip(oof_preds[i],np.where(y>0,1,0)))\n",
    "    dat = sorted(dat, key = lambda x: x[0])\n",
    "    datdict = {}\n",
    "    for k in range(len(dat)):\n",
    "        datdict[dat[k][0]]= dat[k][1]\n",
    "    spline_model.append(UnivariateSpline(list(datdict.keys()), list(datdict.values())))\n",
    "    spline_fit = spline_model[i](oof_preds[i])\n",
    "#     spline_fit = np.clip(spline_fit,0.025,0.975)\n",
    "    spline_fit[(train.T1_seed==1) & (train.T2_seed==16) & (train.T1_Score > train.T2_Score)] = 1.0\n",
    "    spline_fit[(train.T1_seed==2) & (train.T2_seed==15) & (train.T1_Score > train.T2_Score)] = 1.0\n",
    "    spline_fit[(train.T1_seed==3) & (train.T2_seed==14) & (train.T1_Score > train.T2_Score)] = 1.0\n",
    "    spline_fit[(train.T1_seed==4) & (train.T2_seed==13) & (train.T1_Score > train.T2_Score)] = 1.0\n",
    "    spline_fit[(train.T1_seed==16) & (train.T2_seed==1) & (train.T1_Score < train.T2_Score)] = 0.0\n",
    "    spline_fit[(train.T1_seed==15) & (train.T2_seed==2) & (train.T1_Score < train.T2_Score)] = 0.0\n",
    "    spline_fit[(train.T1_seed==14) & (train.T2_seed==3) & (train.T1_Score < train.T2_Score)] = 0.0\n",
    "    spline_fit[(train.T1_seed==13) & (train.T2_seed==4) & (train.T1_Score < train.T2_Score)] = 0.0\n",
    "    \n",
    "    print(f\"adjusted logloss of cvsplit {i}: {log_loss(np.where(y>0,1,0),spline_fit)}\") "
   ]
  },
  {
   "cell_type": "markdown",
   "metadata": {},
   "source": [
    "Now the model performance boost a lot after the manual setting, also need to check the clip influence based on this."
   ]
  },
  {
   "cell_type": "code",
   "execution_count": 34,
   "metadata": {
    "_uuid": "16677dbf8e1c2fb506c9cd669824fffe054d163a"
   },
   "outputs": [
    {
     "name": "stdout",
     "output_type": "stream",
     "text": [
      "adjusted logloss of cvsplit 0: 0.412883460051705\n",
      "adjusted logloss of cvsplit 1: 0.4123511736037952\n",
      "adjusted logloss of cvsplit 2: 0.4118069403001559\n",
      "adjusted logloss of cvsplit 3: 0.41163721704281087\n",
      "adjusted logloss of cvsplit 4: 0.4138679736428501\n"
     ]
    }
   ],
   "source": [
    "spline_model = []\n",
    "\n",
    "for i in range(repeat_cv):\n",
    "    dat = list(zip(oof_preds[i],np.where(y>0,1,0)))\n",
    "    dat = sorted(dat, key = lambda x: x[0])\n",
    "    datdict = {}\n",
    "    for k in range(len(dat)):\n",
    "        datdict[dat[k][0]]= dat[k][1]\n",
    "    spline_model.append(UnivariateSpline(list(datdict.keys()), list(datdict.values())))\n",
    "    spline_fit = spline_model[i](oof_preds[i])\n",
    "    spline_fit = np.clip(spline_fit,0.025,0.975)\n",
    "    spline_fit[(train.T1_seed==1) & (train.T2_seed==16) & (train.T1_Score > train.T2_Score)] = 1.0\n",
    "    spline_fit[(train.T1_seed==2) & (train.T2_seed==15) & (train.T1_Score > train.T2_Score)] = 1.0\n",
    "    spline_fit[(train.T1_seed==3) & (train.T2_seed==14) & (train.T1_Score > train.T2_Score)] = 1.0\n",
    "    spline_fit[(train.T1_seed==4) & (train.T2_seed==13) & (train.T1_Score > train.T2_Score)] = 1.0\n",
    "    spline_fit[(train.T1_seed==16) & (train.T2_seed==1) & (train.T1_Score < train.T2_Score)] = 0.0\n",
    "    spline_fit[(train.T1_seed==15) & (train.T2_seed==2) & (train.T1_Score < train.T2_Score)] = 0.0\n",
    "    spline_fit[(train.T1_seed==14) & (train.T2_seed==3) & (train.T1_Score < train.T2_Score)] = 0.0\n",
    "    spline_fit[(train.T1_seed==13) & (train.T2_seed==4) & (train.T1_Score < train.T2_Score)] = 0.0\n",
    "    \n",
    "    print(f\"adjusted logloss of cvsplit {i}: {log_loss(np.where(y>0,1,0),spline_fit)}\") "
   ]
  },
  {
   "cell_type": "markdown",
   "metadata": {},
   "source": [
    "Nothing improve, so keep the raw predictions."
   ]
  },
  {
   "cell_type": "code",
   "execution_count": 35,
   "metadata": {
    "_uuid": "839c916092ffdaa8c4cc6c73489b8ba90934108d"
   },
   "outputs": [
    {
     "name": "stdout",
     "output_type": "stream",
     "text": [
      "adjusted logloss of cvsplit 0: 0.4117058200877926\n",
      "adjusted logloss of cvsplit 1: 0.41106006468287637\n",
      "adjusted logloss of cvsplit 2: 0.4107297248548715\n",
      "adjusted logloss of cvsplit 3: 0.4105992750646347\n",
      "adjusted logloss of cvsplit 4: 0.41269087946919186\n"
     ]
    },
    {
     "data": {
      "text/plain": [
       "season\n",
       "2010    0.409550\n",
       "2011    0.365297\n",
       "2012    0.406766\n",
       "2013    0.400591\n",
       "2014    0.403864\n",
       "2015    0.339666\n",
       "2016    0.499623\n",
       "2017    0.465500\n",
       "dtype: float64"
      ]
     },
     "execution_count": 35,
     "metadata": {},
     "output_type": "execute_result"
    }
   ],
   "source": [
    "val_cv = []\n",
    "spline_model = []\n",
    "\n",
    "for i in range(repeat_cv):\n",
    "    dat = list(zip(oof_preds[i],np.where(y>0,1,0)))\n",
    "    dat = sorted(dat, key = lambda x: x[0])\n",
    "    datdict = {}\n",
    "    for k in range(len(dat)):\n",
    "        datdict[dat[k][0]]= dat[k][1]\n",
    "    spline_model.append(UnivariateSpline(list(datdict.keys()), list(datdict.values())))\n",
    "    spline_fit = spline_model[i](oof_preds[i])\n",
    "#     spline_fit = np.clip(spline_fit,0.025,0.975)\n",
    "    spline_fit[(train.T1_seed==1) & (train.T2_seed==16) & (train.T1_Score > train.T2_Score)] = 1.0\n",
    "    spline_fit[(train.T1_seed==2) & (train.T2_seed==15) & (train.T1_Score > train.T2_Score)] = 1.0\n",
    "    spline_fit[(train.T1_seed==3) & (train.T2_seed==14) & (train.T1_Score > train.T2_Score)] = 1.0\n",
    "    spline_fit[(train.T1_seed==4) & (train.T2_seed==13) & (train.T1_Score > train.T2_Score)] = 1.0\n",
    "    spline_fit[(train.T1_seed==16) & (train.T2_seed==1) & (train.T1_Score < train.T2_Score)] = 0.0\n",
    "    spline_fit[(train.T1_seed==15) & (train.T2_seed==2) & (train.T1_Score < train.T2_Score)] = 0.0\n",
    "    spline_fit[(train.T1_seed==14) & (train.T2_seed==3) & (train.T1_Score < train.T2_Score)] = 0.0\n",
    "    spline_fit[(train.T1_seed==13) & (train.T2_seed==4) & (train.T1_Score < train.T2_Score)] = 0.0\n",
    "    \n",
    "    val_cv.append(pd.DataFrame({\"y\":np.where(y>0,1,0), \"pred\":spline_fit, \"season\":train.Season}))\n",
    "    print(f\"adjusted logloss of cvsplit {i}: {log_loss(np.where(y>0,1,0),spline_fit)}\") \n",
    "    \n",
    "val_cv = pd.concat(val_cv)\n",
    "val_cv.groupby('season').apply(lambda x: log_loss(x.y, x.pred))"
   ]
  },
  {
   "cell_type": "markdown",
   "metadata": {},
   "source": [
    "## Prediction"
   ]
  },
  {
   "cell_type": "code",
   "execution_count": 36,
   "metadata": {
    "_uuid": "da3c4bd9e88843a7b4e1f39ecb4c7bd47f7de92f"
   },
   "outputs": [
    {
     "data": {
      "text/html": [
       "<div>\n",
       "<style scoped>\n",
       "    .dataframe tbody tr th:only-of-type {\n",
       "        vertical-align: middle;\n",
       "    }\n",
       "\n",
       "    .dataframe tbody tr th {\n",
       "        vertical-align: top;\n",
       "    }\n",
       "\n",
       "    .dataframe thead th {\n",
       "        text-align: right;\n",
       "    }\n",
       "</style>\n",
       "<table border=\"1\" class=\"dataframe\">\n",
       "  <thead>\n",
       "    <tr style=\"text-align: right;\">\n",
       "      <th></th>\n",
       "      <th>ID</th>\n",
       "      <th>Pred</th>\n",
       "    </tr>\n",
       "  </thead>\n",
       "  <tbody>\n",
       "    <tr>\n",
       "      <th>0</th>\n",
       "      <td>2019_3101_3113</td>\n",
       "      <td>0.5</td>\n",
       "    </tr>\n",
       "    <tr>\n",
       "      <th>1</th>\n",
       "      <td>2019_3101_3114</td>\n",
       "      <td>0.5</td>\n",
       "    </tr>\n",
       "    <tr>\n",
       "      <th>2</th>\n",
       "      <td>2019_3101_3120</td>\n",
       "      <td>0.5</td>\n",
       "    </tr>\n",
       "    <tr>\n",
       "      <th>3</th>\n",
       "      <td>2019_3101_3124</td>\n",
       "      <td>0.5</td>\n",
       "    </tr>\n",
       "    <tr>\n",
       "      <th>4</th>\n",
       "      <td>2019_3101_3125</td>\n",
       "      <td>0.5</td>\n",
       "    </tr>\n",
       "  </tbody>\n",
       "</table>\n",
       "</div>"
      ],
      "text/plain": [
       "               ID  Pred\n",
       "0  2019_3101_3113   0.5\n",
       "1  2019_3101_3114   0.5\n",
       "2  2019_3101_3120   0.5\n",
       "3  2019_3101_3124   0.5\n",
       "4  2019_3101_3125   0.5"
      ]
     },
     "execution_count": 36,
     "metadata": {},
     "output_type": "execute_result"
    }
   ],
   "source": [
    "sub = pd.read_csv('../input/WSampleSubmissionStage2.csv')\n",
    "sub.head()"
   ]
  },
  {
   "cell_type": "code",
   "execution_count": 37,
   "metadata": {
    "_uuid": "9fea54f5a884148b918f2ed9bc5e3a2c9b6cd441"
   },
   "outputs": [
    {
     "data": {
      "text/plain": [
       "(2016, 2)"
      ]
     },
     "execution_count": 37,
     "metadata": {},
     "output_type": "execute_result"
    }
   ],
   "source": [
    "sub.shape"
   ]
  },
  {
   "cell_type": "code",
   "execution_count": 38,
   "metadata": {
    "_uuid": "6cae72b2878472e6bc1a18864514b91c0dbba602"
   },
   "outputs": [
    {
     "data": {
      "text/html": [
       "<div>\n",
       "<style scoped>\n",
       "    .dataframe tbody tr th:only-of-type {\n",
       "        vertical-align: middle;\n",
       "    }\n",
       "\n",
       "    .dataframe tbody tr th {\n",
       "        vertical-align: top;\n",
       "    }\n",
       "\n",
       "    .dataframe thead th {\n",
       "        text-align: right;\n",
       "    }\n",
       "</style>\n",
       "<table border=\"1\" class=\"dataframe\">\n",
       "  <thead>\n",
       "    <tr style=\"text-align: right;\">\n",
       "      <th></th>\n",
       "      <th>ID</th>\n",
       "      <th>Pred</th>\n",
       "      <th>Season</th>\n",
       "      <th>T1_TeamID</th>\n",
       "      <th>T2_TeamID</th>\n",
       "    </tr>\n",
       "  </thead>\n",
       "  <tbody>\n",
       "    <tr>\n",
       "      <th>0</th>\n",
       "      <td>2019_3101_3113</td>\n",
       "      <td>0.5</td>\n",
       "      <td>2019</td>\n",
       "      <td>3101</td>\n",
       "      <td>3113</td>\n",
       "    </tr>\n",
       "    <tr>\n",
       "      <th>1</th>\n",
       "      <td>2019_3101_3114</td>\n",
       "      <td>0.5</td>\n",
       "      <td>2019</td>\n",
       "      <td>3101</td>\n",
       "      <td>3114</td>\n",
       "    </tr>\n",
       "    <tr>\n",
       "      <th>2</th>\n",
       "      <td>2019_3101_3120</td>\n",
       "      <td>0.5</td>\n",
       "      <td>2019</td>\n",
       "      <td>3101</td>\n",
       "      <td>3120</td>\n",
       "    </tr>\n",
       "    <tr>\n",
       "      <th>3</th>\n",
       "      <td>2019_3101_3124</td>\n",
       "      <td>0.5</td>\n",
       "      <td>2019</td>\n",
       "      <td>3101</td>\n",
       "      <td>3124</td>\n",
       "    </tr>\n",
       "    <tr>\n",
       "      <th>4</th>\n",
       "      <td>2019_3101_3125</td>\n",
       "      <td>0.5</td>\n",
       "      <td>2019</td>\n",
       "      <td>3101</td>\n",
       "      <td>3125</td>\n",
       "    </tr>\n",
       "  </tbody>\n",
       "</table>\n",
       "</div>"
      ],
      "text/plain": [
       "               ID  Pred  Season  T1_TeamID  T2_TeamID\n",
       "0  2019_3101_3113   0.5    2019       3101       3113\n",
       "1  2019_3101_3114   0.5    2019       3101       3114\n",
       "2  2019_3101_3120   0.5    2019       3101       3120\n",
       "3  2019_3101_3124   0.5    2019       3101       3124\n",
       "4  2019_3101_3125   0.5    2019       3101       3125"
      ]
     },
     "execution_count": 38,
     "metadata": {},
     "output_type": "execute_result"
    }
   ],
   "source": [
    "sub[\"Season\"] = 2019\n",
    "sub[\"T1_TeamID\"] = sub[\"ID\"].apply(lambda x: x[5:9]).astype(int)\n",
    "sub[\"T2_TeamID\"] = sub[\"ID\"].apply(lambda x: x[10:14]).astype(int)\n",
    "sub.head()"
   ]
  },
  {
   "cell_type": "code",
   "execution_count": 39,
   "metadata": {
    "_uuid": "83cfc57ef803748f0109b4a64c2f7133964a8b8a"
   },
   "outputs": [],
   "source": [
    "sub = pd.merge(sub, season_statistics_T1, on = ['Season', 'T1_TeamID'], how = 'left')\n",
    "sub = pd.merge(sub, season_statistics_T2, on = ['Season', 'T2_TeamID'], how = 'left')\n",
    "sub = pd.merge(sub, last14days_stats_T1, on = ['Season', 'T1_TeamID'], how = 'left')\n",
    "sub = pd.merge(sub, last14days_stats_T2, on = ['Season', 'T2_TeamID'], how = 'left')\n",
    "sub = pd.merge(sub, all_stats_T1, on = ['Season', 'T1_TeamID'], how = 'left')\n",
    "sub = pd.merge(sub, all_stats_T2, on = ['Season', 'T2_TeamID'], how = 'left')\n",
    "sub = pd.merge(sub, glm_quality_T1, on = ['Season', 'T1_TeamID'], how = 'left')\n",
    "sub = pd.merge(sub, glm_quality_T2, on = ['Season', 'T2_TeamID'], how = 'left')\n",
    "sub = pd.merge(sub, seeds_T1, on = ['Season', 'T1_TeamID'], how = 'left')\n",
    "sub = pd.merge(sub, seeds_T2, on = ['Season', 'T2_TeamID'], how = 'left')\n",
    "sub[\"Seed_diff\"] = sub[\"T1_seed\"] - sub[\"T2_seed\"]"
   ]
  },
  {
   "cell_type": "code",
   "execution_count": 40,
   "metadata": {
    "_uuid": "639225ecb2664fd1040db092015aba68cd902337"
   },
   "outputs": [],
   "source": [
    "Xsub = sub[features].values\n",
    "dtest = xgb.DMatrix(Xsub)"
   ]
  },
  {
   "cell_type": "code",
   "execution_count": 41,
   "metadata": {
    "_uuid": "e4c11b1b0b245a2b592409f2c3fcad4d5727c33c"
   },
   "outputs": [
    {
     "name": "stdout",
     "output_type": "stream",
     "text": [
      "Fold repeater 0\n",
      "Fold repeater 1\n",
      "Fold repeater 2\n",
      "Fold repeater 3\n",
      "Fold repeater 4\n"
     ]
    }
   ],
   "source": [
    "sub_models = []\n",
    "for i in range(repeat_cv):\n",
    "    print(f\"Fold repeater {i}\")\n",
    "    sub_models.append(\n",
    "        xgb.train(\n",
    "          params = param,\n",
    "          dtrain = dtrain,\n",
    "          num_boost_round = int(iteration_counts[i] * 1.1),\n",
    "          verbose_eval = 50\n",
    "        )\n",
    "    )"
   ]
  },
  {
   "cell_type": "code",
   "execution_count": 42,
   "metadata": {
    "_uuid": "120a7a4bc35b13e7925a6c9429c8e32b60ee85d2"
   },
   "outputs": [
    {
     "data": {
      "text/plain": [
       "(2016, 52)"
      ]
     },
     "execution_count": 42,
     "metadata": {},
     "output_type": "execute_result"
    }
   ],
   "source": [
    "sub.shape"
   ]
  },
  {
   "cell_type": "markdown",
   "metadata": {},
   "source": [
    "## Submission"
   ]
  },
  {
   "cell_type": "code",
   "execution_count": 43,
   "metadata": {
    "_uuid": "d36601c69c9bd0c485114a6be6e6bd6a4383ceb5"
   },
   "outputs": [],
   "source": [
    "sub_preds = []\n",
    "for i in range(repeat_cv):\n",
    "    sub_preds.append(np.clip(spline_model[i](np.clip(sub_models[i].predict(dtest),-30,30)),0.05,0.95))\n",
    "    \n",
    "sub[\"Pred\"] = pd.DataFrame(sub_preds).mean(axis=0)\n",
    "\n",
    "sub.loc[(sub.T1_seed==1) & (sub.T2_seed.isin([16,15,14,13,12,8,9,10,11,7])), 'Pred'] = 1.0\n",
    "sub.loc[(sub.T1_seed==2) & (sub.T2_seed.isin([16,15,14,13,12,10,11])), 'Pred'] = 1.0\n",
    "sub.loc[(sub.T1_seed==3) & (sub.T2_seed.isin([16,15,14,13,12])), 'Pred'] = 1.0\n",
    "# sub.loc[(sub.T1_seed==4) & (sub.T2_seed.isin([16,15,14,13,12])), 'Pred'] = 1.0\n",
    "sub.loc[(sub.T1_seed.isin([16,15,14,13,12,8,9,10,11,7]) & (sub.T2_seed==1)), 'Pred'] = 0.0\n",
    "sub.loc[(sub.T1_seed.isin([16,15,14,13,12]) & (sub.T2_seed==2)), 'Pred'] = 0.0\n",
    "sub.loc[(sub.T1_seed.isin([16,15,14,13,12]) & (sub.T2_seed==3)), 'Pred'] = 0.0\n",
    "# sub.loc[(sub.T1_seed.isin([16,15,14,13,12]) & (sub.T2_seed==4), 'Pred'] = 0.0\n",
    "\n",
    "sub[['ID','Pred']].to_csv(\"paris-submission.csv\", index = None)"
   ]
  },
  {
   "cell_type": "code",
   "execution_count": 44,
   "metadata": {},
   "outputs": [],
   "source": []
  }
 ],
 "metadata": {
  "kernelspec": {
   "display_name": "Python 3",
   "language": "python",
   "name": "python3"
  },
  "language_info": {
   "codemirror_mode": {
    "name": "ipython",
    "version": 3
   },
   "file_extension": ".py",
   "mimetype": "text/x-python",
   "name": "python",
   "nbconvert_exporter": "python",
   "pygments_lexer": "ipython3",
   "version": "3.6.6"
  }
 },
 "nbformat": 4,
 "nbformat_minor": 1
}
